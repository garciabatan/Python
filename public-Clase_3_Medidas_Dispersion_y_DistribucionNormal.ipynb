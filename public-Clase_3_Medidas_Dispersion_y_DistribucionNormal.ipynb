{
 "cells": [
  {
   "cell_type": "markdown",
   "id": "caadf58b",
   "metadata": {},
   "source": [
    "## Carga de librerias"
   ]
  },
  {
   "cell_type": "code",
   "execution_count": 19,
   "id": "c614a2c9",
   "metadata": {},
   "outputs": [],
   "source": [
    "import pandas as pd\n",
    "import numpy as np\n",
    "import seaborn as sb\n",
    "import matplotlib.pyplot as plt\n",
    "import statistics as st\n",
    "import scipy.stats \n",
    "from sklearn import datasets\n",
    "\n",
    "\n",
    "#deaactivar warnings\n",
    "import warnings\n",
    "warnings.filterwarnings('ignore')"
   ]
  },
  {
   "cell_type": "markdown",
   "id": "08d872a4",
   "metadata": {},
   "source": [
    "### Principales Funciones de Numpy"
   ]
  },
  {
   "cell_type": "code",
   "execution_count": 20,
   "id": "d1bb21ed",
   "metadata": {},
   "outputs": [
    {
     "name": "stdout",
     "output_type": "stream",
     "text": [
      "[1 2 3 4 5]\n"
     ]
    }
   ],
   "source": [
    "#array \n",
    "vec_num = np.array([1,2,3,4,5])\n",
    "print(vec_num)"
   ]
  },
  {
   "cell_type": "code",
   "execution_count": 39,
   "id": "b382d784",
   "metadata": {},
   "outputs": [
    {
     "name": "stdout",
     "output_type": "stream",
     "text": [
      "[1 2 3 4 5 6 7]\n"
     ]
    }
   ],
   "source": [
    "arreglo = np.array([2,1,3,7,4,5,6])\n",
    "arreglo = np.arange(1,8)\n",
    "\n",
    "\n",
    "print(arreglo)"
   ]
  },
  {
   "cell_type": "code",
   "execution_count": 115,
   "id": "dd6e683d",
   "metadata": {},
   "outputs": [
    {
     "name": "stdout",
     "output_type": "stream",
     "text": [
      "4\n",
      "[4 5 6]\n",
      "6\n",
      "(6,)\n"
     ]
    }
   ],
   "source": [
    "#Indexar y buscar posiciones\n",
    "print(arreglo[1])\n",
    "print(arreglo[1:4])\n",
    "\n",
    "\n",
    "print(len(arreglo))\n",
    "print(arreglo.shape)\n"
   ]
  },
  {
   "cell_type": "code",
   "execution_count": 41,
   "id": "e6f56a5d",
   "metadata": {},
   "outputs": [
    {
     "name": "stdout",
     "output_type": "stream",
     "text": [
      "[  1   2   3   4   5   6   7 100]\n",
      "[  1 200   2   3   4   5   6   7 100]\n"
     ]
    }
   ],
   "source": [
    "#append al final del arreglo\n",
    "arreglo = np.append(arreglo, 100)\n",
    "print(arreglo)\n",
    "\n",
    "#isnert en la posicion indicada\n",
    "arreglo = np.insert(arreglo, 1, 200)\n",
    "print(arreglo)"
   ]
  },
  {
   "cell_type": "code",
   "execution_count": 44,
   "id": "b749d19f",
   "metadata": {},
   "outputs": [
    {
     "name": "stdout",
     "output_type": "stream",
     "text": [
      "[  1   4   5   6   7 100]\n",
      "(array([3]),)\n",
      "(array([3, 4, 5]),)\n"
     ]
    }
   ],
   "source": [
    "arreglo = np.delete(arreglo, 1)\n",
    "print(arreglo)\n",
    "\n"
   ]
  },
  {
   "cell_type": "code",
   "execution_count": 124,
   "id": "a546eab3",
   "metadata": {},
   "outputs": [
    {
     "name": "stdout",
     "output_type": "stream",
     "text": [
      "(array([3]),)\n",
      "(array([3, 4, 5]),)\n"
     ]
    }
   ],
   "source": [
    "#Buscar en una lista \n",
    "x = np.where(arreglo == 6)\n",
    "print(x)\n",
    "\n",
    "x = np.where(arreglo >= 6)\n",
    "print(x)"
   ]
  },
  {
   "cell_type": "code",
   "execution_count": 127,
   "id": "c01a0ea7",
   "metadata": {},
   "outputs": [
    {
     "name": "stdout",
     "output_type": "stream",
     "text": [
      "(array([3, 5, 6]),)\n"
     ]
    }
   ],
   "source": [
    "#Buscar con el metodo where\n",
    "arr = np.array([1, 2, 3, 4, 5, 4, 4])\n",
    "\n",
    "x = np.where(arr == 4)\n",
    "print(x)"
   ]
  },
  {
   "cell_type": "code",
   "execution_count": 28,
   "id": "7532e6aa",
   "metadata": {},
   "outputs": [
    {
     "name": "stdout",
     "output_type": "stream",
     "text": [
      "(3, 4)\n"
     ]
    }
   ],
   "source": [
    "arreglo2 = np.array([[2,6,3,1],\n",
    "                     [9,4,21,1],\n",
    "                     [21,34,11,4]])\n",
    "\n",
    "print(arreglo2.shape)"
   ]
  },
  {
   "cell_type": "code",
   "execution_count": 58,
   "id": "bb579750",
   "metadata": {},
   "outputs": [
    {
     "name": "stdout",
     "output_type": "stream",
     "text": [
      "[[1 2 3 4]]\n",
      "4\n",
      "2\n",
      "[1 2 3 4]\n"
     ]
    }
   ],
   "source": [
    "arr = np.array([1, 2, 3, 4], ndmin=2)\n",
    "\n",
    "print(arr)\n",
    "\n",
    "print(arr.size)\n",
    "print(arr.ndim)\n",
    "\n",
    "print(arr[0,])\n",
    "\n"
   ]
  },
  {
   "cell_type": "code",
   "execution_count": 116,
   "id": "0fe375ed",
   "metadata": {},
   "outputs": [
    {
     "name": "stdout",
     "output_type": "stream",
     "text": [
      "[[ 1  2  3  4]\n",
      " [ 5  6  7  8]\n",
      " [ 9 10 11 12]]\n",
      "12\n"
     ]
    }
   ],
   "source": [
    "arr = np.array([[1,2,3,4],[5,6,7,8],[9,10,11,12]], ndmin=2)\n",
    "print(arr)\n",
    "\n",
    "print(arr.size)"
   ]
  },
  {
   "cell_type": "code",
   "execution_count": 79,
   "id": "5e4e679b",
   "metadata": {},
   "outputs": [
    {
     "name": "stdout",
     "output_type": "stream",
     "text": [
      "[[ 1  2  3  4]\n",
      " [ 5  6  7  8]\n",
      " [ 9 10 11 12]\n",
      " [13 14 15 16]]\n"
     ]
    }
   ],
   "source": [
    "#Insertar una fila mas\n",
    "arr = np.insert(arr,3,[13,14,15,16],axis=0)\n",
    "print(arr)"
   ]
  },
  {
   "cell_type": "code",
   "execution_count": 75,
   "id": "4fc378e3",
   "metadata": {},
   "outputs": [
    {
     "name": "stdout",
     "output_type": "stream",
     "text": [
      "2\n",
      "[[0. 0. 0.]\n",
      " [0. 0. 0.]]\n"
     ]
    }
   ],
   "source": [
    "#Cargar un matriz\n",
    "y = np.zeros((2, 3))\n",
    "\n",
    "print(y.ndim)\n",
    "print(y)"
   ]
  },
  {
   "cell_type": "code",
   "execution_count": 91,
   "id": "07475403",
   "metadata": {},
   "outputs": [
    {
     "name": "stdout",
     "output_type": "stream",
     "text": [
      "[[101 102 103 104]\n",
      " [105 106 107 108]\n",
      " [109 110 111 112]\n",
      " [113 114 115 116]]\n",
      "136\n",
      "8.5\n"
     ]
    }
   ],
   "source": [
    "# calculos sobre los datos\n",
    "\n",
    "print(arr + 100)\n",
    "\n",
    "print(arr.sum())\n",
    "\n",
    "print(arr.mean())\n"
   ]
  },
  {
   "cell_type": "code",
   "execution_count": 94,
   "id": "bd912cd4",
   "metadata": {},
   "outputs": [
    {
     "name": "stdout",
     "output_type": "stream",
     "text": [
      "[  1   4   5   6   7 100]\n",
      "5\n",
      "[4 5]\n"
     ]
    }
   ],
   "source": [
    "# busqueda de posiciones especificas\n",
    "print(arreglo)\n",
    "\n",
    "#Buscar la 3ra posicion\n",
    "print(arreglo[2])\n",
    "\n",
    "#Buscar de la 2da poscion a la 4ta sin incluirla\n",
    "print(arreglo[1:3])"
   ]
  },
  {
   "cell_type": "code",
   "execution_count": 106,
   "id": "bb7ae4b0",
   "metadata": {},
   "outputs": [
    {
     "name": "stdout",
     "output_type": "stream",
     "text": [
      "[[ 1  2  3  4]\n",
      " [ 5  6  7  8]\n",
      " [ 9 10 11 12]\n",
      " [13 14 15 16]]\n",
      "7\n"
     ]
    },
    {
     "data": {
      "text/plain": [
       "array([10, 11])"
      ]
     },
     "execution_count": 106,
     "metadata": {},
     "output_type": "execute_result"
    }
   ],
   "source": [
    "print(arr)\n",
    "\n",
    "\n",
    "#Extraer el valor 7\n",
    "print(arr[1,2])\n",
    "\n",
    "#Extraer los valores 10 y 11\n",
    "arr[[2],[1,2]]"
   ]
  },
  {
   "cell_type": "markdown",
   "id": "d3cfd780",
   "metadata": {},
   "source": [
    "#### Tipos de datos en array\n",
    "\n",
    "**i = integer**\\\n",
    "**b = boolean**\\\n",
    "**u = unsigned integer**\\\n",
    "**f = float**\\\n",
    "**c = complex float**\\\n",
    "**m = timedelta**\\\n",
    "**M = datetime**\\\n",
    "**O = Object**\\\n",
    "**S = string**\\"
   ]
  },
  {
   "cell_type": "code",
   "execution_count": 118,
   "id": "cec63daa",
   "metadata": {},
   "outputs": [
    {
     "name": "stdout",
     "output_type": "stream",
     "text": [
      "int64\n"
     ]
    }
   ],
   "source": [
    "print(arr.dtype)"
   ]
  },
  {
   "cell_type": "code",
   "execution_count": 120,
   "id": "83a02a9f",
   "metadata": {},
   "outputs": [
    {
     "name": "stdout",
     "output_type": "stream",
     "text": [
      "|S1\n"
     ]
    }
   ],
   "source": [
    "arr_str = np.array([1,2,3,4], dtype='S')\n",
    "\n",
    "print(arr_str.dtype)"
   ]
  },
  {
   "cell_type": "code",
   "execution_count": 123,
   "id": "86bb8e5c",
   "metadata": {},
   "outputs": [
    {
     "name": "stdout",
     "output_type": "stream",
     "text": [
      "[[ 1  2  3]\n",
      " [ 4  5  6]\n",
      " [ 7  8  9]\n",
      " [10 11 12]]\n"
     ]
    }
   ],
   "source": [
    "#Reshape de una lista o matriz\n",
    "arr = np.array([1, 2, 3, 4, 5, 6, 7, 8, 9, 10, 11, 12])\n",
    "\n",
    "newarr = arr.reshape(4, 3)\n",
    "\n",
    "print(newarr)"
   ]
  },
  {
   "cell_type": "markdown",
   "id": "8a8b66a2",
   "metadata": {},
   "source": [
    "## Practica Ejercicios con Numpy"
   ]
  },
  {
   "cell_type": "code",
   "execution_count": null,
   "id": "b9b34179",
   "metadata": {},
   "outputs": [],
   "source": [
    "#Crear un array de numpy\n",
    "arr = np.______([112, 852, 396, 458, 95])"
   ]
  },
  {
   "cell_type": "code",
   "execution_count": null,
   "id": "b31586dc",
   "metadata": {},
   "outputs": [],
   "source": [
    "#Crear un array de numpy en 2 dimensiones\n",
    "arr = np.array([1, 2, 3, 4], ________=2)"
   ]
  },
  {
   "cell_type": "code",
   "execution_count": null,
   "id": "824153b2",
   "metadata": {},
   "outputs": [],
   "source": [
    "#Del array anterior verifique el numero de dimensiones\n",
    "print(arr.________)"
   ]
  },
  {
   "cell_type": "code",
   "execution_count": null,
   "id": "d22e8c9e",
   "metadata": {},
   "outputs": [],
   "source": [
    "#Buscar la posicion 1 e imprimirla del array \"arr\"\n"
   ]
  },
  {
   "cell_type": "code",
   "execution_count": null,
   "id": "f8730080",
   "metadata": {},
   "outputs": [],
   "source": [
    "#Extraer el valor 606\n",
    "arr = np.array([[101, 202, 303, 404], [505, 606, 707, 808]])\n",
    "\n",
    "print(arr______)\n"
   ]
  },
  {
   "cell_type": "code",
   "execution_count": null,
   "id": "9aae04df",
   "metadata": {},
   "outputs": [],
   "source": [
    "#Extraer del valor 2 al 7 sin incluir el 7\n",
    "\n",
    "arr = np.array([1000, 1500, 2000, 2500, 3000, 3500, 4000, 4500, 5000, 5500, 6000])"
   ]
  },
  {
   "cell_type": "code",
   "execution_count": null,
   "id": "60074429",
   "metadata": {},
   "outputs": [],
   "source": [
    "#Inserte el metodo correcto para cambiar el tipo de dato a Integer\n",
    "\n",
    "arr = np.array([1.1, 2.1, 3.1])\n",
    "\n",
    "newarr = arr.______\n"
   ]
  },
  {
   "cell_type": "code",
   "execution_count": null,
   "id": "f1201f30",
   "metadata": {},
   "outputs": [],
   "source": [
    "# Realice una copia del array\n",
    "\n",
    "arr = np.array([1, 2, 3, 4, 5])\n",
    "\n",
    "x = arr._________\n"
   ]
  },
  {
   "cell_type": "code",
   "execution_count": null,
   "id": "43c6ffe3",
   "metadata": {},
   "outputs": [],
   "source": [
    "#Realice una \"vista\" view del array anterior\n"
   ]
  },
  {
   "cell_type": "code",
   "execution_count": null,
   "id": "bea0d231",
   "metadata": {},
   "outputs": [],
   "source": [
    "#Realice con numpy una revision del shape del array anterior\n"
   ]
  },
  {
   "cell_type": "code",
   "execution_count": null,
   "id": "67051771",
   "metadata": {},
   "outputs": [],
   "source": [
    "#Utilice el metodo para cambiar la forma \"shape\" de un array 1D hacia 2D\n",
    "arr = np.array([1, 2, 3, 4, 5, 6, 7, 8, 9, 10, 11, 12])\n",
    "\n",
    "newarr = arr._________(4, 3)"
   ]
  },
  {
   "cell_type": "code",
   "execution_count": null,
   "id": "b6700c5f",
   "metadata": {},
   "outputs": [],
   "source": [
    "#convierta el siguiente array de 2D hacia 1D \n",
    "arr = np.array([[1, 2, 3, 4, 5, 6], [7, 8, 9, 10, 11, 12]])\n",
    "\n",
    "newarr = arr.________"
   ]
  },
  {
   "cell_type": "code",
   "execution_count": null,
   "id": "11d90373",
   "metadata": {},
   "outputs": [],
   "source": [
    "#Use el metodo correto para buscar los items con valor = 401\n",
    "arr = np.array([101, 201, 301, 401, 501, 401, 401])\n",
    "\n",
    "x = np.__________(arr == 401)"
   ]
  },
  {
   "cell_type": "markdown",
   "id": "894f47d9",
   "metadata": {},
   "source": [
    "## Trabajo con Pandas\n",
    "\n",
    "Pandas es el paquete especializado en trabajar sobre los dataset o DataFrames, sirve para explorarlos, limpiarlos, analizarlos entre muchas otras tareas\n"
   ]
  },
  {
   "cell_type": "markdown",
   "id": "e1ea26e5",
   "metadata": {},
   "source": [
    "### Series en Pandas"
   ]
  },
  {
   "cell_type": "code",
   "execution_count": 128,
   "id": "ad473375",
   "metadata": {},
   "outputs": [
    {
     "name": "stdout",
     "output_type": "stream",
     "text": [
      "0    1\n",
      "1    7\n",
      "2    2\n",
      "dtype: int64\n"
     ]
    }
   ],
   "source": [
    "a = [1, 7, 2]\n",
    "\n",
    "myvar = pd.Series(a)\n",
    "\n",
    "print(myvar)"
   ]
  },
  {
   "cell_type": "code",
   "execution_count": 130,
   "id": "249311c2",
   "metadata": {},
   "outputs": [
    {
     "name": "stdout",
     "output_type": "stream",
     "text": [
      "7\n"
     ]
    }
   ],
   "source": [
    "#Acceso a datos \n",
    "print(myvar[1])"
   ]
  },
  {
   "cell_type": "code",
   "execution_count": 133,
   "id": "a2e3cf18",
   "metadata": {},
   "outputs": [
    {
     "name": "stdout",
     "output_type": "stream",
     "text": [
      "x    1\n",
      "y    7\n",
      "z    2\n",
      "dtype: int64\n",
      "7\n"
     ]
    }
   ],
   "source": [
    "#Crear su propio indice\n",
    "myvar = pd.Series(a, index = [\"x\", \"y\", \"z\"])\n",
    "\n",
    "print(myvar)\n",
    "\n",
    "print(myvar['y'])"
   ]
  },
  {
   "cell_type": "code",
   "execution_count": 134,
   "id": "d0e96a56",
   "metadata": {},
   "outputs": [
    {
     "name": "stdout",
     "output_type": "stream",
     "text": [
      "day1    420\n",
      "day2    380\n",
      "day3    390\n",
      "dtype: int64\n"
     ]
    }
   ],
   "source": [
    "calories = {\"day1\": 420, \"day2\": 380, \"day3\": 390}\n",
    "\n",
    "myvar = pd.Series(calories, index = [\"day1\", \"day2\",\"day3\"])\n",
    "\n",
    "print(myvar)"
   ]
  },
  {
   "cell_type": "code",
   "execution_count": 138,
   "id": "7fa8c5b2",
   "metadata": {},
   "outputs": [
    {
     "name": "stdout",
     "output_type": "stream",
     "text": [
      "1190\n",
      "396.6666666666667\n",
      "380\n"
     ]
    }
   ],
   "source": [
    "#Medidas estadisticas y calculos en series de pandas\n",
    "print(myvar.sum())\n",
    "print(myvar.mean())\n",
    "print(myvar.min())"
   ]
  },
  {
   "cell_type": "markdown",
   "id": "f665f5b8",
   "metadata": {},
   "source": [
    "### Pandas Datraframes"
   ]
  },
  {
   "cell_type": "code",
   "execution_count": 140,
   "id": "f54be36a",
   "metadata": {},
   "outputs": [
    {
     "name": "stdout",
     "output_type": "stream",
     "text": [
      "   calories  duration\n",
      "0       420        50\n",
      "1       380        40\n",
      "2       390        45\n"
     ]
    }
   ],
   "source": [
    "data = {\n",
    "  \"calories\": [420, 380, 390],\n",
    "  \"duration\": [50, 40, 45]\n",
    "}\n",
    "\n",
    "df = pd.DataFrame(data)\n",
    "\n",
    "print(df)"
   ]
  },
  {
   "cell_type": "code",
   "execution_count": 150,
   "id": "80863bcd",
   "metadata": {},
   "outputs": [
    {
     "name": "stdout",
     "output_type": "stream",
     "text": [
      "calories    420\n",
      "duration     50\n",
      "Name: 0, dtype: int64\n",
      "   calories  duration\n",
      "0       420        50\n",
      "1       380        40\n"
     ]
    }
   ],
   "source": [
    "#funcion loc\n",
    "#imprime registro 1\n",
    "print(df.loc[0])\n",
    "\n",
    "#imprime todas las calorias\n",
    "print(df.loc[[0,1]])\n",
    "\n"
   ]
  },
  {
   "cell_type": "code",
   "execution_count": 151,
   "id": "537c7be9",
   "metadata": {},
   "outputs": [],
   "source": [
    "data = {\n",
    "  \"calories\": [420, 380, 390],\n",
    "  \"duration\": [50, 40, 45]\n",
    "}\n",
    "\n",
    "df = pd.DataFrame(data, index = [\"day1\", \"day2\", \"day3\"])\n"
   ]
  },
  {
   "cell_type": "code",
   "execution_count": 152,
   "id": "1779fb40",
   "metadata": {},
   "outputs": [
    {
     "name": "stdout",
     "output_type": "stream",
     "text": [
      "calories    420\n",
      "duration     50\n",
      "Name: day1, dtype: int64\n"
     ]
    }
   ],
   "source": [
    "print(df.loc['day1'])"
   ]
  },
  {
   "cell_type": "code",
   "execution_count": 8,
   "id": "067c7e8a",
   "metadata": {},
   "outputs": [],
   "source": [
    "#Apertura de Datasets\n",
    "df = pd.read_csv(\"OnlineRetail.csv\",sep=\";\",encoding='unicode_escape')"
   ]
  },
  {
   "cell_type": "code",
   "execution_count": 9,
   "id": "35a94167",
   "metadata": {},
   "outputs": [
    {
     "data": {
      "text/html": [
       "<div>\n",
       "<style scoped>\n",
       "    .dataframe tbody tr th:only-of-type {\n",
       "        vertical-align: middle;\n",
       "    }\n",
       "\n",
       "    .dataframe tbody tr th {\n",
       "        vertical-align: top;\n",
       "    }\n",
       "\n",
       "    .dataframe thead th {\n",
       "        text-align: right;\n",
       "    }\n",
       "</style>\n",
       "<table border=\"1\" class=\"dataframe\">\n",
       "  <thead>\n",
       "    <tr style=\"text-align: right;\">\n",
       "      <th></th>\n",
       "      <th>InvoiceNo</th>\n",
       "      <th>StockCode</th>\n",
       "      <th>Description</th>\n",
       "      <th>Quantity</th>\n",
       "      <th>InvoiceDate</th>\n",
       "      <th>UnitPrice</th>\n",
       "      <th>CustomerID</th>\n",
       "      <th>Country</th>\n",
       "    </tr>\n",
       "  </thead>\n",
       "  <tbody>\n",
       "    <tr>\n",
       "      <th>0</th>\n",
       "      <td>536365</td>\n",
       "      <td>85123A</td>\n",
       "      <td>WHITE HANGING HEART T-LIGHT HOLDER</td>\n",
       "      <td>6</td>\n",
       "      <td>01/12/2010 08:26</td>\n",
       "      <td>2.55</td>\n",
       "      <td>17850.0</td>\n",
       "      <td>United Kingdom</td>\n",
       "    </tr>\n",
       "    <tr>\n",
       "      <th>1</th>\n",
       "      <td>536365</td>\n",
       "      <td>71053</td>\n",
       "      <td>WHITE METAL LANTERN</td>\n",
       "      <td>6</td>\n",
       "      <td>01/12/2010 08:26</td>\n",
       "      <td>3.39</td>\n",
       "      <td>17850.0</td>\n",
       "      <td>United Kingdom</td>\n",
       "    </tr>\n",
       "    <tr>\n",
       "      <th>2</th>\n",
       "      <td>536365</td>\n",
       "      <td>84406B</td>\n",
       "      <td>CREAM CUPID HEARTS COAT HANGER</td>\n",
       "      <td>8</td>\n",
       "      <td>01/12/2010 08:26</td>\n",
       "      <td>2.75</td>\n",
       "      <td>17850.0</td>\n",
       "      <td>United Kingdom</td>\n",
       "    </tr>\n",
       "    <tr>\n",
       "      <th>3</th>\n",
       "      <td>536365</td>\n",
       "      <td>84029G</td>\n",
       "      <td>KNITTED UNION FLAG HOT WATER BOTTLE</td>\n",
       "      <td>6</td>\n",
       "      <td>01/12/2010 08:26</td>\n",
       "      <td>3.39</td>\n",
       "      <td>17850.0</td>\n",
       "      <td>United Kingdom</td>\n",
       "    </tr>\n",
       "    <tr>\n",
       "      <th>4</th>\n",
       "      <td>536365</td>\n",
       "      <td>84029E</td>\n",
       "      <td>RED WOOLLY HOTTIE WHITE HEART.</td>\n",
       "      <td>6</td>\n",
       "      <td>01/12/2010 08:26</td>\n",
       "      <td>3.39</td>\n",
       "      <td>17850.0</td>\n",
       "      <td>United Kingdom</td>\n",
       "    </tr>\n",
       "  </tbody>\n",
       "</table>\n",
       "</div>"
      ],
      "text/plain": [
       "  InvoiceNo StockCode                          Description  Quantity  \\\n",
       "0    536365    85123A   WHITE HANGING HEART T-LIGHT HOLDER         6   \n",
       "1    536365     71053                  WHITE METAL LANTERN         6   \n",
       "2    536365    84406B       CREAM CUPID HEARTS COAT HANGER         8   \n",
       "3    536365    84029G  KNITTED UNION FLAG HOT WATER BOTTLE         6   \n",
       "4    536365    84029E       RED WOOLLY HOTTIE WHITE HEART.         6   \n",
       "\n",
       "        InvoiceDate  UnitPrice  CustomerID         Country  \n",
       "0  01/12/2010 08:26       2.55     17850.0  United Kingdom  \n",
       "1  01/12/2010 08:26       3.39     17850.0  United Kingdom  \n",
       "2  01/12/2010 08:26       2.75     17850.0  United Kingdom  \n",
       "3  01/12/2010 08:26       3.39     17850.0  United Kingdom  \n",
       "4  01/12/2010 08:26       3.39     17850.0  United Kingdom  "
      ]
     },
     "execution_count": 9,
     "metadata": {},
     "output_type": "execute_result"
    }
   ],
   "source": [
    "df.head()"
   ]
  },
  {
   "cell_type": "code",
   "execution_count": 10,
   "id": "d6944013",
   "metadata": {},
   "outputs": [
    {
     "data": {
      "text/html": [
       "<div>\n",
       "<style scoped>\n",
       "    .dataframe tbody tr th:only-of-type {\n",
       "        vertical-align: middle;\n",
       "    }\n",
       "\n",
       "    .dataframe tbody tr th {\n",
       "        vertical-align: top;\n",
       "    }\n",
       "\n",
       "    .dataframe thead th {\n",
       "        text-align: right;\n",
       "    }\n",
       "</style>\n",
       "<table border=\"1\" class=\"dataframe\">\n",
       "  <thead>\n",
       "    <tr style=\"text-align: right;\">\n",
       "      <th></th>\n",
       "      <th>InvoiceNo</th>\n",
       "      <th>StockCode</th>\n",
       "      <th>Description</th>\n",
       "      <th>Quantity</th>\n",
       "      <th>InvoiceDate</th>\n",
       "      <th>UnitPrice</th>\n",
       "      <th>CustomerID</th>\n",
       "      <th>Country</th>\n",
       "    </tr>\n",
       "  </thead>\n",
       "  <tbody>\n",
       "    <tr>\n",
       "      <th>541904</th>\n",
       "      <td>581587</td>\n",
       "      <td>22613</td>\n",
       "      <td>PACK OF 20 SPACEBOY NAPKINS</td>\n",
       "      <td>12</td>\n",
       "      <td>09/12/2011 12:50</td>\n",
       "      <td>0.85</td>\n",
       "      <td>12680.0</td>\n",
       "      <td>France</td>\n",
       "    </tr>\n",
       "    <tr>\n",
       "      <th>541905</th>\n",
       "      <td>581587</td>\n",
       "      <td>22899</td>\n",
       "      <td>CHILDREN'S APRON DOLLY GIRL</td>\n",
       "      <td>6</td>\n",
       "      <td>09/12/2011 12:50</td>\n",
       "      <td>2.10</td>\n",
       "      <td>12680.0</td>\n",
       "      <td>France</td>\n",
       "    </tr>\n",
       "    <tr>\n",
       "      <th>541906</th>\n",
       "      <td>581587</td>\n",
       "      <td>23254</td>\n",
       "      <td>CHILDRENS CUTLERY DOLLY GIRL</td>\n",
       "      <td>4</td>\n",
       "      <td>09/12/2011 12:50</td>\n",
       "      <td>4.15</td>\n",
       "      <td>12680.0</td>\n",
       "      <td>France</td>\n",
       "    </tr>\n",
       "    <tr>\n",
       "      <th>541907</th>\n",
       "      <td>581587</td>\n",
       "      <td>23255</td>\n",
       "      <td>CHILDRENS CUTLERY CIRCUS PARADE</td>\n",
       "      <td>4</td>\n",
       "      <td>09/12/2011 12:50</td>\n",
       "      <td>4.15</td>\n",
       "      <td>12680.0</td>\n",
       "      <td>France</td>\n",
       "    </tr>\n",
       "    <tr>\n",
       "      <th>541908</th>\n",
       "      <td>581587</td>\n",
       "      <td>22138</td>\n",
       "      <td>BAKING SET 9 PIECE RETROSPOT</td>\n",
       "      <td>3</td>\n",
       "      <td>09/12/2011 12:50</td>\n",
       "      <td>4.95</td>\n",
       "      <td>12680.0</td>\n",
       "      <td>France</td>\n",
       "    </tr>\n",
       "  </tbody>\n",
       "</table>\n",
       "</div>"
      ],
      "text/plain": [
       "       InvoiceNo StockCode                      Description  Quantity  \\\n",
       "541904    581587     22613      PACK OF 20 SPACEBOY NAPKINS        12   \n",
       "541905    581587     22899     CHILDREN'S APRON DOLLY GIRL          6   \n",
       "541906    581587     23254    CHILDRENS CUTLERY DOLLY GIRL          4   \n",
       "541907    581587     23255  CHILDRENS CUTLERY CIRCUS PARADE         4   \n",
       "541908    581587     22138    BAKING SET 9 PIECE RETROSPOT          3   \n",
       "\n",
       "             InvoiceDate  UnitPrice  CustomerID Country  \n",
       "541904  09/12/2011 12:50       0.85     12680.0  France  \n",
       "541905  09/12/2011 12:50       2.10     12680.0  France  \n",
       "541906  09/12/2011 12:50       4.15     12680.0  France  \n",
       "541907  09/12/2011 12:50       4.15     12680.0  France  \n",
       "541908  09/12/2011 12:50       4.95     12680.0  France  "
      ]
     },
     "execution_count": 10,
     "metadata": {},
     "output_type": "execute_result"
    }
   ],
   "source": [
    "df.tail()"
   ]
  },
  {
   "cell_type": "code",
   "execution_count": 11,
   "id": "ffa482c0",
   "metadata": {},
   "outputs": [
    {
     "data": {
      "text/plain": [
       "(541909, 8)"
      ]
     },
     "execution_count": 11,
     "metadata": {},
     "output_type": "execute_result"
    }
   ],
   "source": [
    "df.shape"
   ]
  },
  {
   "cell_type": "code",
   "execution_count": 12,
   "id": "1bb45a7c",
   "metadata": {},
   "outputs": [
    {
     "name": "stdout",
     "output_type": "stream",
     "text": [
      "<class 'pandas.core.frame.DataFrame'>\n",
      "RangeIndex: 541909 entries, 0 to 541908\n",
      "Data columns (total 8 columns):\n",
      " #   Column       Non-Null Count   Dtype  \n",
      "---  ------       --------------   -----  \n",
      " 0   InvoiceNo    541909 non-null  object \n",
      " 1   StockCode    541909 non-null  object \n",
      " 2   Description  540455 non-null  object \n",
      " 3   Quantity     541909 non-null  int64  \n",
      " 4   InvoiceDate  541909 non-null  object \n",
      " 5   UnitPrice    541909 non-null  float64\n",
      " 6   CustomerID   406829 non-null  float64\n",
      " 7   Country      541909 non-null  object \n",
      "dtypes: float64(2), int64(1), object(5)\n",
      "memory usage: 33.1+ MB\n"
     ]
    }
   ],
   "source": [
    "df.info()"
   ]
  },
  {
   "cell_type": "code",
   "execution_count": 14,
   "id": "54e4e21d",
   "metadata": {},
   "outputs": [
    {
     "data": {
      "text/html": [
       "<div>\n",
       "<style scoped>\n",
       "    .dataframe tbody tr th:only-of-type {\n",
       "        vertical-align: middle;\n",
       "    }\n",
       "\n",
       "    .dataframe tbody tr th {\n",
       "        vertical-align: top;\n",
       "    }\n",
       "\n",
       "    .dataframe thead th {\n",
       "        text-align: right;\n",
       "    }\n",
       "</style>\n",
       "<table border=\"1\" class=\"dataframe\">\n",
       "  <thead>\n",
       "    <tr style=\"text-align: right;\">\n",
       "      <th></th>\n",
       "      <th>Quantity</th>\n",
       "      <th>UnitPrice</th>\n",
       "      <th>CustomerID</th>\n",
       "    </tr>\n",
       "  </thead>\n",
       "  <tbody>\n",
       "    <tr>\n",
       "      <th>count</th>\n",
       "      <td>541909.000000</td>\n",
       "      <td>541909.000000</td>\n",
       "      <td>406829.000000</td>\n",
       "    </tr>\n",
       "    <tr>\n",
       "      <th>mean</th>\n",
       "      <td>9.552250</td>\n",
       "      <td>4.611114</td>\n",
       "      <td>15287.690570</td>\n",
       "    </tr>\n",
       "    <tr>\n",
       "      <th>std</th>\n",
       "      <td>218.081158</td>\n",
       "      <td>96.759853</td>\n",
       "      <td>1713.600303</td>\n",
       "    </tr>\n",
       "    <tr>\n",
       "      <th>min</th>\n",
       "      <td>-80995.000000</td>\n",
       "      <td>-11062.060000</td>\n",
       "      <td>12346.000000</td>\n",
       "    </tr>\n",
       "    <tr>\n",
       "      <th>25%</th>\n",
       "      <td>1.000000</td>\n",
       "      <td>1.250000</td>\n",
       "      <td>13953.000000</td>\n",
       "    </tr>\n",
       "    <tr>\n",
       "      <th>50%</th>\n",
       "      <td>3.000000</td>\n",
       "      <td>2.080000</td>\n",
       "      <td>15152.000000</td>\n",
       "    </tr>\n",
       "    <tr>\n",
       "      <th>75%</th>\n",
       "      <td>10.000000</td>\n",
       "      <td>4.130000</td>\n",
       "      <td>16791.000000</td>\n",
       "    </tr>\n",
       "    <tr>\n",
       "      <th>max</th>\n",
       "      <td>80995.000000</td>\n",
       "      <td>38970.000000</td>\n",
       "      <td>18287.000000</td>\n",
       "    </tr>\n",
       "  </tbody>\n",
       "</table>\n",
       "</div>"
      ],
      "text/plain": [
       "            Quantity      UnitPrice     CustomerID\n",
       "count  541909.000000  541909.000000  406829.000000\n",
       "mean        9.552250       4.611114   15287.690570\n",
       "std       218.081158      96.759853    1713.600303\n",
       "min    -80995.000000  -11062.060000   12346.000000\n",
       "25%         1.000000       1.250000   13953.000000\n",
       "50%         3.000000       2.080000   15152.000000\n",
       "75%        10.000000       4.130000   16791.000000\n",
       "max     80995.000000   38970.000000   18287.000000"
      ]
     },
     "execution_count": 14,
     "metadata": {},
     "output_type": "execute_result"
    }
   ],
   "source": [
    "df.describe()"
   ]
  },
  {
   "cell_type": "code",
   "execution_count": 15,
   "id": "e3a246ce",
   "metadata": {},
   "outputs": [
    {
     "data": {
      "text/plain": [
       "0         United Kingdom\n",
       "1         United Kingdom\n",
       "2         United Kingdom\n",
       "3         United Kingdom\n",
       "4         United Kingdom\n",
       "               ...      \n",
       "541904            France\n",
       "541905            France\n",
       "541906            France\n",
       "541907            France\n",
       "541908            France\n",
       "Name: Country, Length: 541909, dtype: object"
      ]
     },
     "execution_count": 15,
     "metadata": {},
     "output_type": "execute_result"
    }
   ],
   "source": [
    "df.Country"
   ]
  },
  {
   "cell_type": "code",
   "execution_count": 17,
   "id": "47066250",
   "metadata": {},
   "outputs": [
    {
     "data": {
      "text/plain": [
       "Country\n",
       "United Kingdom          495478\n",
       "Germany                   9495\n",
       "France                    8557\n",
       "EIRE                      8196\n",
       "Spain                     2533\n",
       "Netherlands               2371\n",
       "Belgium                   2069\n",
       "Switzerland               2002\n",
       "Portugal                  1519\n",
       "Australia                 1259\n",
       "Norway                    1086\n",
       "Italy                      803\n",
       "Channel Islands            758\n",
       "Finland                    695\n",
       "Cyprus                     622\n",
       "Sweden                     462\n",
       "Unspecified                446\n",
       "Austria                    401\n",
       "Denmark                    389\n",
       "Japan                      358\n",
       "Poland                     341\n",
       "Israel                     297\n",
       "USA                        291\n",
       "Hong Kong                  288\n",
       "Singapore                  229\n",
       "Iceland                    182\n",
       "Canada                     151\n",
       "Greece                     146\n",
       "Malta                      127\n",
       "United Arab Emirates        68\n",
       "European Community          61\n",
       "RSA                         58\n",
       "Lebanon                     45\n",
       "Lithuania                   35\n",
       "Brazil                      32\n",
       "Czech Republic              30\n",
       "Bahrain                     19\n",
       "Saudi Arabia                10\n",
       "Name: count, dtype: int64"
      ]
     },
     "execution_count": 17,
     "metadata": {},
     "output_type": "execute_result"
    }
   ],
   "source": [
    "df['Country'].value_counts()"
   ]
  },
  {
   "cell_type": "code",
   "execution_count": 18,
   "id": "e5220dfe",
   "metadata": {},
   "outputs": [],
   "source": [
    "df['total'] = df['UnitPrice'] * df['Quantity']"
   ]
  },
  {
   "cell_type": "markdown",
   "id": "8b0ead41",
   "metadata": {},
   "source": [
    "## Medidas de Variabilidad"
   ]
  },
  {
   "cell_type": "code",
   "execution_count": 30,
   "id": "7ad73f23",
   "metadata": {},
   "outputs": [
    {
     "name": "stdout",
     "output_type": "stream",
     "text": [
      "Rango: 165\n",
      "Varianza poblacional: 2295.0617283950614\n",
      "Varianza muestral: 2581.9444444444443\n",
      "Desviacion estandar poblacional: 47.90680252735577\n",
      "Desviacion estandar muestral: 50.812837398087154\n",
      "Coeficiente Variacion: 1.1944487881349868\n",
      "Rango Intercuartilico 55.0\n"
     ]
    }
   ],
   "source": [
    "pesos = [5, 15, 25, 35, 40, 55, 80, 90, 170]\n",
    "\n",
    "print(\"Rango:\", np.max(pesos) - np.min(pesos))\n",
    "\n",
    "print(\"Varianza poblacional:\", np.var(pesos))\n",
    "print(\"Varianza muestral:\", np.var(pesos, ddof=1))\n",
    "\n",
    "print(\"Desviacion estandar poblacional:\", np.std(pesos))\n",
    "print(\"Desviacion estandar muestral:\", np.std(pesos, ddof=1))\n",
    "\n",
    "print(\"Coeficiente Variacion:\", np.mean(pesos) / np.std(pesos))\n",
    "#Calculo del rango intercuartilico\n",
    "\n",
    "Q1 = np.percentile(pesos,25)\n",
    "Q3 = np.percentile(pesos,75)\n",
    "print(\"Rango Intercuartilico\", Q3 - Q1)"
   ]
  },
  {
   "cell_type": "code",
   "execution_count": 114,
   "id": "3a4dc307",
   "metadata": {},
   "outputs": [
    {
     "name": "stdout",
     "output_type": "stream",
     "text": [
      "78.4\n",
      "80.7\n",
      "74.7\n",
      "Minimo 53.9\n",
      "Maximo 103.7\n",
      "Pos Min 125\n",
      "Pos Max 70\n",
      "Suma 10819.2\n",
      "Promedio 78.4\n",
      "Cantidad datos 138\n"
     ]
    }
   ],
   "source": [
    "alturas = np.array([1.74, 1.8, 1.78, 1.68, 1.78, 1.7, 1.74, 1.74, 1.73, 1.79, \n",
    "           1.78, 1.72, 1.65, 1.78, 1.7, 1.68, 1.79, 1.68, 1.82, 1.72,\n",
    "           1.75, 1.66, 1.67, 1.79, 1.75, 1.65, 1.78, 1.73, 1.71, 1.81,\n",
    "           1.73, 1.71, 1.68, 1.74, 1.75, 1.68, 1.74, 1.81, 1.73, 1.82,\n",
    "           1.8, 1.67, 1.73, 1.7, 1.73, 1.7, 1.81, 1.81, 1.76, 1.82, 1.68,\n",
    "           1.74, 1.65, 1.8, 1.78, 1.7, 1.68, 1.78, 1.79, 1.73, 1.64, 1.67,\n",
    "           1.69, 1.74, 1.76, 1.66, 1.66, 1.73, 1.79, 1.81, 1.78, 1.63,\n",
    "           1.76, 1.72, 1.71, 1.7, 1.62, 1.8, 1.75, 1.8, 1.78, 1.78, 1.76,\n",
    "           1.65, 1.65, 1.68, 1.74, 1.75, 1.69, 1.75, 1.7, 1.83, 1.64, 1.7,\n",
    "           1.69, 1.69, 1.64, 1.69, 1.77, 1.8, 1.78, 1.69, 1.7, 1.7, 1.7,\n",
    "           1.63, 1.73, 1.84, 1.66, 1.78, 1.8, 1.79, 1.78, 1.74, 1.77,\n",
    "           1.73, 1.77, 1.76, 1.75, 1.8, 1.75,  1.8, 1.79, 1.71, 1.73,\n",
    "           1.59, 1.76, 1.75, 1.71, 1.76, 1.8, 1.68, 1.74, 1.77, 1.73,\n",
    "           1.68, 1.63, 1.67])\n",
    "\n",
    "pesos = np.array([81.4, 88.7, 87.3, 62.7, 81.6, 80.9, 74.6, 84.7, 76.7, 88.3,\n",
    "         84.6, 74, 57.7, 84.1, 79.7, 63.8, 88.4, 71.2, 87.1, 67, 80.7,\n",
    "         74.7, 60.5, 85.9, 72.4, 59.7, 87.3, 85.7, 64.1, 91.9, 82.8, 75.7,\n",
    "         60.2, 73.1, 74.7, 65.9, 80.9, 91.3, 76, 86.8, 80.7, 74.2, 83.1,\n",
    "         77.8, 84.5, 58.8, 89.5, 87, 84, 89.9, 56.5, 80.2, 61.8, 86.3,\n",
    "         82.6, 69.4, 65.8, 79.3, 88.1, 78.5, 69.1, 62.5, 74, 74.4, 87.6,\n",
    "         59.6, 61.4, 83.2, 89.2, 89.2, 103.7, 67.9, 85.4, 69.5, 75.7, \n",
    "         83.9, 59.5, 87.9, 82.6, 88.1, 86.2, 88.9, 84.4, 58.4, 61.5, 69.2,\n",
    "         84.2, 78, 81.1, 81.5, 74.7, 90.4, 59.2, 79.3, 65.1, 93, 60.5,\n",
    "         76.4, 98.8, 89.1, 88.9, 61.1, 76.6, 86, 75.5, 66.9, 79.4, 87.9,\n",
    "         72.3, 93.8, 89, 90.7, 86.7, 77.6, 85.1, 91.8, 103.2, 91.1, 67,\n",
    "         86.9, 78.7, 87.1, 85.5, 69.8, 75, 53.9, 99, 93.7, 88, 79.4, 87.6,\n",
    "         60.4, 82.7, 90.6, 79.8, 61.2, 62.5, 59.7])   \n",
    "\n",
    "\n",
    "#Calcular todas las medidas de tendencia central y dispersion\n",
    "print(np.mean(pesos))\n",
    "print(np.median(pesos))\n",
    "print(st.mode(pesos))\n",
    "\n",
    "\n",
    "print(\"Minimo\", pesos.min())\n",
    "print(\"Maximo\", pesos.max())\n",
    "print(\"Pos Min\", pesos.argmin())\n",
    "print(\"Pos Max\", pesos.argmax())\n",
    "print(\"Suma\", pesos.sum())\n",
    "print(\"Promedio\", pesos.mean())\n",
    "print(\"Cantidad datos\", len(pesos))\n"
   ]
  },
  {
   "cell_type": "markdown",
   "id": "4c7fe6c8",
   "metadata": {},
   "source": [
    "## Como funciona visualizacion con matplotlib"
   ]
  },
  {
   "cell_type": "code",
   "execution_count": 31,
   "id": "becda373",
   "metadata": {},
   "outputs": [
    {
     "data": {
      "image/png": "[encoded data removed]",
      "text/plain": [
       "<Figure size 640x480 with 1 Axes>"
      ]
     },
     "metadata": {},
     "output_type": "display_data"
    }
   ],
   "source": [
    "eje_x = [\"a\", \"b\", \"c\", \"d\", \"e\"]\n",
    "datos = [10, 20, 30, 40, 50]\n",
    "datos2 = [20, 30, 40, 50, 60]\n",
    "\n",
    "plt.plot(eje_x,datos)\n",
    "plt.plot(eje_x,datos2)\n",
    "\n",
    "plt.title(\"Lineas de Tendencia\")\n",
    "\n",
    "plt.xlabel(\"Abecedario\")\n",
    "plt.ylabel(\"Valores\")\n",
    "\n",
    "plt.show()"
   ]
  },
  {
   "cell_type": "markdown",
   "id": "672cb79c",
   "metadata": {},
   "source": [
    "## Diagrama de Cajas"
   ]
  },
  {
   "cell_type": "code",
   "execution_count": 36,
   "id": "9210e002",
   "metadata": {},
   "outputs": [
    {
     "data": {
      "image/png": "[encoded data removed]",
      "text/plain": [
       "<Figure size 640x480 with 1 Axes>"
      ]
     },
     "metadata": {},
     "output_type": "display_data"
    }
   ],
   "source": [
    "edades = np.array([4, 17, 29, 33, 50, 51, 61, 71, 85, 92, 99])\n",
    "\n",
    "plt.yticks(np.arange(0, 110, 5))\n",
    "plt.grid(True)\n",
    "plt.boxplot(edades)\n",
    "plt.show()"
   ]
  },
  {
   "cell_type": "code",
   "execution_count": 14,
   "id": "63857101",
   "metadata": {},
   "outputs": [
    {
     "data": {
      "text/plain": [
       "(4, 31.0, 51.0, 78.0, 99)"
      ]
     },
     "execution_count": 14,
     "metadata": {},
     "output_type": "execute_result"
    }
   ],
   "source": [
    "(np.min(edades), np.quantile(edades, 0.25), np.median(edades),\n",
    "np.quantile(edades, 0.75), np.max(edades))"
   ]
  },
  {
   "cell_type": "markdown",
   "id": "70f6f0a7",
   "metadata": {},
   "source": [
    "## Datos Anormales"
   ]
  },
  {
   "cell_type": "code",
   "execution_count": 15,
   "id": "2a81d1b6",
   "metadata": {},
   "outputs": [
    {
     "data": {
      "image/png": "[encoded data removed]",
      "text/plain": [
       "<Figure size 640x480 with 1 Axes>"
      ]
     },
     "metadata": {},
     "output_type": "display_data"
    }
   ],
   "source": [
    "edades = np.array([6, 41, 51, 51, 52, 54, 57, 60, 61, 65, 95, 100])\n",
    "\n",
    "plt.grid(True)\n",
    "plt.yticks(np.arange(0, 110, 5))\n",
    "plt.boxplot(edades)\n",
    "plt.show()"
   ]
  },
  {
   "cell_type": "markdown",
   "id": "a7686f84",
   "metadata": {},
   "source": [
    "## Graficando un Histograma"
   ]
  },
  {
   "cell_type": "code",
   "execution_count": 38,
   "id": "c85c29f0",
   "metadata": {},
   "outputs": [],
   "source": [
    "datos = np.random.normal(1.75,0.15, 10)"
   ]
  },
  {
   "cell_type": "code",
   "execution_count": 39,
   "id": "e103d6b7",
   "metadata": {},
   "outputs": [
    {
     "name": "stdout",
     "output_type": "stream",
     "text": [
      "Promedio: 1.7938101705695426\n",
      "Desviacion: 0.12\n"
     ]
    }
   ],
   "source": [
    "print('Promedio:',np.mean(datos))\n",
    "print('Desviacion:',np.round(np.std(datos),2))"
   ]
  },
  {
   "cell_type": "code",
   "execution_count": 40,
   "id": "d974c7a8",
   "metadata": {},
   "outputs": [
    {
     "data": {
      "text/plain": [
       "<function matplotlib.pyplot.show(close=None, block=None)>"
      ]
     },
     "execution_count": 40,
     "metadata": {},
     "output_type": "execute_result"
    },
    {
     "data": {
      "image/png": "[encoded data removed]",
      "text/plain": [
       "<Figure size 640x480 with 1 Axes>"
      ]
     },
     "metadata": {},
     "output_type": "display_data"
    }
   ],
   "source": [
    "plt.hist(datos, color=\"pink\", ec=\"black\")\n",
    "plt.show"
   ]
  },
  {
   "cell_type": "code",
   "execution_count": 41,
   "id": "e519c3b0",
   "metadata": {},
   "outputs": [],
   "source": [
    "datos = np.random.normal(1.75,0.15, 100)"
   ]
  },
  {
   "cell_type": "code",
   "execution_count": 43,
   "id": "fc9d4f32",
   "metadata": {},
   "outputs": [
    {
     "name": "stdout",
     "output_type": "stream",
     "text": [
      "Promedio: 1.7343123797806301\n",
      "Desviacion: 0.16\n"
     ]
    }
   ],
   "source": [
    "print('Promedio:',np.mean(datos))\n",
    "print('Desviacion:',np.round(np.std(datos),2))"
   ]
  },
  {
   "cell_type": "code",
   "execution_count": 44,
   "id": "6f671db6",
   "metadata": {},
   "outputs": [
    {
     "data": {
      "text/plain": [
       "<function matplotlib.pyplot.show(close=None, block=None)>"
      ]
     },
     "execution_count": 44,
     "metadata": {},
     "output_type": "execute_result"
    },
    {
     "data": {
      "image/png": "[encoded data removed]",
      "text/plain": [
       "<Figure size 640x480 with 1 Axes>"
      ]
     },
     "metadata": {},
     "output_type": "display_data"
    }
   ],
   "source": [
    "plt.hist(datos, color=\"pink\", ec=\"black\")\n",
    "plt.show"
   ]
  },
  {
   "cell_type": "code",
   "execution_count": 48,
   "id": "ba551442",
   "metadata": {},
   "outputs": [],
   "source": [
    "datos = np.random.normal(1.75,0.15, 10000)"
   ]
  },
  {
   "cell_type": "code",
   "execution_count": 50,
   "id": "a62d44dd",
   "metadata": {},
   "outputs": [
    {
     "name": "stdout",
     "output_type": "stream",
     "text": [
      "Promedio: 1.7516509033055412\n",
      "Desviacion: 0.15\n"
     ]
    }
   ],
   "source": [
    "print('Promedio:',np.mean(datos))\n",
    "print('Desviacion:',np.round(np.std(datos),2))"
   ]
  },
  {
   "cell_type": "code",
   "execution_count": 51,
   "id": "5e8a12cd",
   "metadata": {},
   "outputs": [
    {
     "data": {
      "text/plain": [
       "<function matplotlib.pyplot.show(close=None, block=None)>"
      ]
     },
     "execution_count": 51,
     "metadata": {},
     "output_type": "execute_result"
    },
    {
     "data": {
      "image/png": "[encoded data removed]",
      "text/plain": [
       "<Figure size 640x480 with 1 Axes>"
      ]
     },
     "metadata": {},
     "output_type": "display_data"
    }
   ],
   "source": [
    "plt.hist(datos, color=\"pink\", ec=\"black\",bins=50)\n",
    "plt.show"
   ]
  },
  {
   "cell_type": "code",
   "execution_count": 52,
   "id": "51a005e5",
   "metadata": {},
   "outputs": [
    {
     "data": {
      "text/plain": [
       "<function matplotlib.pyplot.show(close=None, block=None)>"
      ]
     },
     "execution_count": 52,
     "metadata": {},
     "output_type": "execute_result"
    },
    {
     "data": {
      "image/png": "[encoded data removed]",
      "text/plain": [
       "<Figure size 640x480 with 1 Axes>"
      ]
     },
     "metadata": {},
     "output_type": "display_data"
    }
   ],
   "source": [
    "import matplotlib.pyplot as plt\n",
    "\n",
    "datos = [1, 2, 3, 4, 5, 6, 7, 8, 9, 10]\n",
    "\n",
    "#plt.hist(datos)\n",
    "plt.hist(datos, color=\"pink\", ec=\"black\")\n",
    "plt.show"
   ]
  },
  {
   "cell_type": "markdown",
   "id": "1d9a1d36",
   "metadata": {},
   "source": [
    "## Generar arreglos con datos aleatorios Dist Normal"
   ]
  },
  {
   "cell_type": "code",
   "execution_count": 26,
   "id": "fe5edab8",
   "metadata": {},
   "outputs": [
    {
     "data": {
      "text/plain": [
       "array([102.85010834, 115.50649731, 104.79892538, 103.83320269,\n",
       "       106.31125531, 111.31944247,  90.87224437,  99.01566512,\n",
       "       111.17208009,  99.96348682])"
      ]
     },
     "execution_count": 26,
     "metadata": {},
     "output_type": "execute_result"
    }
   ],
   "source": [
    "np.random.normal(loc=100, scale=10, size=10)"
   ]
  },
  {
   "cell_type": "code",
   "execution_count": 27,
   "id": "23d74377",
   "metadata": {},
   "outputs": [
    {
     "name": "stdout",
     "output_type": "stream",
     "text": [
      "100.1206286416576\n",
      "9.991679805222468\n"
     ]
    }
   ],
   "source": [
    "#Calcular el promedio\n",
    "print(np.random.normal(loc=100, scale=10, size=10000).mean())\n",
    "\n",
    "#Calcular Desv Sta\n",
    "print(np.random.normal(loc=100, scale=10, size=10000).std())"
   ]
  },
  {
   "cell_type": "markdown",
   "id": "b02945b7",
   "metadata": {},
   "source": [
    "## Tres distribuciones importantes\n",
    "\n",
    "### Normal, Uniforme y Exponencial"
   ]
  },
  {
   "cell_type": "code",
   "execution_count": 54,
   "id": "b29cbe3d",
   "metadata": {},
   "outputs": [
    {
     "data": {
      "image/png": "[encoded data removed]",
      "text/plain": [
       "<Figure size 640x480 with 1 Axes>"
      ]
     },
     "metadata": {},
     "output_type": "display_data"
    },
    {
     "data": {
      "image/png": "[encoded data removed]",
      "text/plain": [
       "<Figure size 640x480 with 1 Axes>"
      ]
     },
     "metadata": {},
     "output_type": "display_data"
    },
    {
     "data": {
      "image/png": "[encoded data removed]",
      "text/plain": [
       "<Figure size 640x480 with 1 Axes>"
      ]
     },
     "metadata": {},
     "output_type": "display_data"
    }
   ],
   "source": [
    "datos = np.random.normal(size=1000000)\n",
    "\n",
    "plt.hist(datos, color=\"pink\", ec=\"black\")\n",
    "plt.title(\"Distribucion Normal\")\n",
    "plt.show()\n",
    "\n",
    "datos = np.random.uniform(size=1000000)\n",
    "\n",
    "plt.hist(datos, color=\"skyblue\", ec=\"black\")\n",
    "plt.title(\"Distribucion Uniforme\")\n",
    "plt.show()\n",
    "\n",
    "datos = np.random.exponential(size=1000000)\n",
    "\n",
    "plt.hist(datos, color=\"green\", ec=\"black\")\n",
    "plt.title(\"Distribucion Exponencial\")\n",
    "plt.show()"
   ]
  },
  {
   "cell_type": "markdown",
   "id": "10baf7a4",
   "metadata": {},
   "source": [
    "## Regla Empirica 68 - 95 - 99.7 de la Distribucion Normal"
   ]
  },
  {
   "cell_type": "code",
   "execution_count": 1,
   "id": "b1de9333",
   "metadata": {},
   "outputs": [],
   "source": [
    "import numpy as np\n",
    "import matplotlib.pyplot as plt"
   ]
  },
  {
   "cell_type": "code",
   "execution_count": 55,
   "id": "7b2abc62",
   "metadata": {},
   "outputs": [],
   "source": [
    "#altura promedio\n",
    "mu = 170\n",
    "\n",
    "#desviacion estandar\n",
    "sigma = 8"
   ]
  },
  {
   "cell_type": "code",
   "execution_count": 56,
   "id": "2915e2db",
   "metadata": {},
   "outputs": [],
   "source": [
    "# generacion de 100 mil alturas aleatorias\n",
    "\n",
    "n = 100000\n",
    "\n",
    "alturas = np.random.normal(mu, sigma, n)"
   ]
  },
  {
   "cell_type": "code",
   "execution_count": 57,
   "id": "543908d9",
   "metadata": {},
   "outputs": [
    {
     "data": {
      "image/png": "[encoded data removed]",
      "text/plain": [
       "<Figure size 900x350 with 1 Axes>"
      ]
     },
     "metadata": {},
     "output_type": "display_data"
    }
   ],
   "source": [
    "plt.figure(figsize=(9, 3.5))\n",
    "\n",
    "conteo, x, barras = plt.hist(alturas, 100, density=True, color=\"pink\", alpha=0.7)"
   ]
  },
  {
   "cell_type": "code",
   "execution_count": 58,
   "id": "0667b87c",
   "metadata": {},
   "outputs": [
    {
     "data": {
      "image/png": "[encoded data removed]",
      "text/plain": [
       "<Figure size 640x480 with 1 Axes>"
      ]
     },
     "metadata": {},
     "output_type": "display_data"
    },
    {
     "name": "stdout",
     "output_type": "stream",
     "text": [
      "\n",
      "** Regla Empirica 68-95-99.7 de la Distribucion Normal *** \n",
      "\n",
      "162 - 178 cm\t 154 - 186 cm\t 146 - 194 cm\n",
      "67.953 %\t 95.397 %\t 99.751 %\t\n"
     ]
    }
   ],
   "source": [
    "# Campana utilizando la funcion de densidad de probabilidad\n",
    "\n",
    "plt.plot(x, 1/ (sigma*np.sqrt(2*np.pi)) * np.exp(-0.5*((x-mu)/sigma)**2), \n",
    "            linewidth=1, color=\"purple\")\n",
    "\n",
    "#Dibujando las desviaciones estandar y la media\n",
    "\n",
    "sigmas = [mu - 3*sigma, mu - 2 * sigma, mu - sigma, mu,\n",
    "          mu + sigma, mu + 2*sigma, mu + 3*sigma]\n",
    "\n",
    "for s in sigmas:\n",
    "    plt.axvline(s, color = \"teal\", linewidth=1.5, linestyle=\"dashed\")\n",
    "    \n",
    "plt.yticks([])\n",
    "plt.xticks([])\n",
    "plt.box(False)\n",
    "plt.show()\n",
    "\n",
    "print(\"\\n** Regla Empirica 68-95-99.7 de la Distribucion Normal *** \\n\")\n",
    "print(mu - sigma, \"-\", mu + sigma, \"cm\\t\",\n",
    "        mu - 2*sigma, \"-\", mu + 2*sigma, \"cm\\t\",\n",
    "        mu - 3*sigma, \"-\", mu + 3*sigma, \"cm\")\n",
    "\n",
    "print((np.where(((mu - sigma) < alturas) & \n",
    "              (alturas < (mu + sigma)), 1, 0).sum()*100)/n, \"%\\t\",\n",
    "      (np.where(((mu - 2*sigma) < alturas) & \n",
    "              (alturas < (mu + 2*sigma)), 1, 0).sum()*100)/n, \"%\\t\",\n",
    "      (np.where(((mu - 3*sigma) < alturas) & \n",
    "              (alturas < (mu + 3*sigma)), 1, 0).sum()*100)/n, \"%\\t\",)"
   ]
  },
  {
   "cell_type": "code",
   "execution_count": null,
   "id": "8835fc00",
   "metadata": {},
   "outputs": [],
   "source": []
  }
 ],
 "metadata": {
  "kernelspec": {
   "display_name": "Python 3 (ipykernel)",
   "language": "python",
   "name": "python3"
  },
  "language_info": {
   "codemirror_mode": {
    "name": "ipython",
    "version": 3
   },
   "file_extension": ".py",
   "mimetype": "text/x-python",
   "name": "python",
   "nbconvert_exporter": "python",
   "pygments_lexer": "ipython3",
   "version": "3.12.0"
  }
 },
 "nbformat": 4,
 "nbformat_minor": 5
}
